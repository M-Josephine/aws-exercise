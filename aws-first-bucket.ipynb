{
 "cells": [
  {
   "cell_type": "code",
   "execution_count": 31,
   "metadata": {},
   "outputs": [],
   "source": [
    "import boto3\n",
    "\n",
    "# Create boto3 client to S3\n",
    "s3 = boto3.client('s3', region_name='us-east-1', \n",
    "                         aws_access_key_id=\"XXXX\", \n",
    "                         aws_secret_access_key=\"XXXX\")"
   ]
  },
  {
   "cell_type": "code",
   "execution_count": 32,
   "metadata": {},
   "outputs": [
    {
     "name": "stdout",
     "output_type": "stream",
     "text": [
      "{'ResponseMetadata': {'RequestId': '7A3673A6C6803D70', 'HostId': 'qv+KHlAcgCmmJFEGCJeM5XSlydViQTowVjqbqv4gJUdVZTvDoCRX4eLzbgi9IPZBdOoLnYUnbR0=', 'HTTPStatusCode': 200, 'HTTPHeaders': {'x-amz-id-2': 'qv+KHlAcgCmmJFEGCJeM5XSlydViQTowVjqbqv4gJUdVZTvDoCRX4eLzbgi9IPZBdOoLnYUnbR0=', 'x-amz-request-id': '7A3673A6C6803D70', 'date': 'Fri, 26 Feb 2021 14:02:19 GMT', 'location': '/first-bucket-jm', 'content-length': '0', 'server': 'AmazonS3'}, 'RetryAttempts': 0}, 'Location': '/first-bucket-jm'}\n"
     ]
    }
   ],
   "source": [
    "# Create the bucket\n",
    "bucket_response = s3.create_bucket(Bucket=\"first-bucket-jm\")\n",
    "print(bucket_response)"
   ]
  },
  {
   "cell_type": "code",
   "execution_count": 34,
   "metadata": {},
   "outputs": [],
   "source": [
    "# Upload files into the bucket\n",
    "\n",
    "file_names = [\"C:/Users/jo_18/aws-first-bucket/lu_bird_species.csv\",\n",
    "              \"C:/Users/jo_18/aws-first-bucket/lu_location.csv\",\n",
    "              \"C:/Users/jo_18/aws-first-bucket/lu_ranking.csv\",\n",
    "              \"C:/Users/jo_18/aws-first-bucket/lu_threats.csv\"]\n",
    "\n",
    "for filename in file_names:\n",
    "    s3.upload_file(Bucket='first-bucket-jm', \n",
    "               Filename=filename, \n",
    "               Key='2021/'+ filename)\n"
   ]
  },
  {
   "cell_type": "code",
   "execution_count": 35,
   "metadata": {},
   "outputs": [
    {
     "name": "stdout",
     "output_type": "stream",
     "text": [
      "first-bucket-jm\n"
     ]
    }
   ],
   "source": [
    "# print bucket name\n",
    "response = s3.list_buckets()\n",
    "for bucket in response['Buckets']:\n",
    "    print(bucket['Name'])"
   ]
  },
  {
   "cell_type": "code",
   "execution_count": 37,
   "metadata": {},
   "outputs": [],
   "source": [
    "s3 = boto3.resource('s3',\n",
    "         aws_access_key_id=\"XXXX\", \n",
    "                         aws_secret_access_key=\"XXXX\")"
   ]
  },
  {
   "cell_type": "code",
   "execution_count": 38,
   "metadata": {},
   "outputs": [
    {
     "name": "stdout",
     "output_type": "stream",
     "text": [
      "2021/C:/Users/jo_18/aws-first-bucket/lu_bird_species.csv\n",
      "2021/C:/Users/jo_18/aws-first-bucket/lu_location.csv\n",
      "2021/C:/Users/jo_18/aws-first-bucket/lu_ranking.csv\n",
      "2021/C:/Users/jo_18/aws-first-bucket/lu_threats.csv\n"
     ]
    }
   ],
   "source": [
    "#print file names\n",
    "my_bucket = s3.Bucket('first-bucket-jm')\n",
    "\n",
    "for file in my_bucket.objects.all():\n",
    "    print(file.key)"
   ]
  },
  {
   "cell_type": "code",
   "execution_count": 41,
   "metadata": {},
   "outputs": [],
   "source": [
    "#delete file where filename contains 'bird'\n",
    "\n",
    "my_bucket = s3.Bucket('first-bucket-jm')\n",
    "\n",
    "for file in my_bucket.objects.all():\n",
    "    if 'bird' in file.key:\n",
    "        s3.Object('first-bucket-jm', file.key).delete()"
   ]
  },
  {
   "cell_type": "code",
   "execution_count": 42,
   "metadata": {},
   "outputs": [
    {
     "name": "stdout",
     "output_type": "stream",
     "text": [
      "2021/C:/Users/jo_18/aws-first-bucket/lu_location.csv\n",
      "2021/C:/Users/jo_18/aws-first-bucket/lu_ranking.csv\n",
      "2021/C:/Users/jo_18/aws-first-bucket/lu_threats.csv\n"
     ]
    }
   ],
   "source": [
    "#print file names without filename containing 'bird'\n",
    "my_bucket = s3.Bucket('first-bucket-jm')\n",
    "\n",
    "for file in my_bucket.objects.all():\n",
    "    print(file.key)"
   ]
  },
  {
   "cell_type": "code",
   "execution_count": 43,
   "metadata": {},
   "outputs": [],
   "source": [
    "# Create function\n",
    "\n",
    "def delete_file(s3_connection,bucket_name, to_delete):\n",
    "    my_bucket = s3_connection.Bucket(bucket_name)\n",
    "\n",
    "    for file in my_bucket.objects.all():\n",
    "        if to_delete in file.key:\n",
    "            s3_connection.Object(bucket_name, file.key).delete()\n",
    "            \n",
    "    remaining_files = []\n",
    "    for file in my_bucket.objects.all():\n",
    "        remaining_files.append(file.key)\n",
    "    \n",
    "    return remaining_files"
   ]
  },
  {
   "cell_type": "code",
   "execution_count": 44,
   "metadata": {},
   "outputs": [
    {
     "name": "stdout",
     "output_type": "stream",
     "text": [
      "['2021/C:/Users/jo_18/aws-first-bucket/lu_ranking.csv', '2021/C:/Users/jo_18/aws-first-bucket/lu_threats.csv']\n"
     ]
    }
   ],
   "source": [
    "# Test function with to_delete = 'location'\n",
    "\n",
    "print(delete_file(s3,\"first-bucket-jm\",'location'))"
   ]
  }
 ],
 "metadata": {
  "kernelspec": {
   "display_name": "Python 3",
   "language": "python",
   "name": "python3"
  },
  "language_info": {
   "codemirror_mode": {
    "name": "ipython",
    "version": 3
   },
   "file_extension": ".py",
   "mimetype": "text/x-python",
   "name": "python",
   "nbconvert_exporter": "python",
   "pygments_lexer": "ipython3",
   "version": "3.8.3"
  }
 },
 "nbformat": 4,
 "nbformat_minor": 4
}
